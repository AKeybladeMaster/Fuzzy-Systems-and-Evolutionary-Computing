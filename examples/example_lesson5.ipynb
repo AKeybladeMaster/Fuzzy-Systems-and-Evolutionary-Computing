{
 "cells": [
  {
   "cell_type": "markdown",
   "id": "fab2751d",
   "metadata": {},
   "source": [
    "# Exercise 1\n",
    "\n",
    "- Implement the Griewank benchmark function\n",
    "\n",
    "$$f(x) = 1 + \\frac{1}{4000}*(\\sum_{i=1}^n x_i^2) - \\Pi_{i=1}^n\\cos (\\frac{x_i}{\\sqrt{i}})$$\n",
    "\n",
    "- Implement a genetic algorithm to solve the problem\n",
    "$$\\arg\\min_{x \\in [-600,600]^n} f(x)$$"
   ]
  },
  {
   "cell_type": "markdown",
   "id": "79c1a60c",
   "metadata": {},
   "source": [
    "# Exercise 2\n",
    "\n",
    "Revisit Exercise 1 by:\n",
    "\n",
    "- Check how the solution varies when changing elements that influence the exploration-exploitation trade-off (elitism, steady-state vs generational, population size, mutation rate, etc.)\n",
    "\n",
    "- Implement a maximally exploitative version of Genetic Algorithm (Hint: Hill Climbing)\n",
    "\n",
    "- Implement a maximally explorative version of Genetic Algorithm (Hint: Randomized Search)"
   ]
  },
  {
   "cell_type": "code",
   "execution_count": null,
   "id": "9232bdbf",
   "metadata": {},
   "outputs": [],
   "source": []
  }
 ],
 "metadata": {
  "kernelspec": {
   "display_name": "Python 3 (ipykernel)",
   "language": "python",
   "name": "python3"
  },
  "language_info": {
   "codemirror_mode": {
    "name": "ipython",
    "version": 3
   },
   "file_extension": ".py",
   "mimetype": "text/x-python",
   "name": "python",
   "nbconvert_exporter": "python",
   "pygments_lexer": "ipython3",
   "version": "3.10.9"
  }
 },
 "nbformat": 4,
 "nbformat_minor": 5
}

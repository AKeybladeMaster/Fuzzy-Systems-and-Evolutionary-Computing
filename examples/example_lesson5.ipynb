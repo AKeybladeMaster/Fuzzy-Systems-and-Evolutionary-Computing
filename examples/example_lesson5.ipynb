{
 "cells": [
  {
   "cell_type": "markdown",
   "id": "59c4e850",
   "metadata": {},
   "source": [
    "# Exercise 1\n",
    "\n",
    "- Implement the Griewank benchmark function\n",
    "\n",
    "$$f(x) = 1 + \\frac{1}{4000}*(\\sum_{i=1}^n x_i^2) - \\Pi_{i=1}^n\\cos (\\frac{x_i}{\\sqrt{i}})$$\n",
    "\n",
    "- Implement a genetic algorithm to solve the problem\n",
    "$$\\arg\\min_{x \\in [-600,600]^n} f(x)$$"
   ]
  },
  {
   "cell_type": "markdown",
   "id": "6ddbdaf8",
   "metadata": {},
   "source": [
    "# Exercise 2\n",
    "\n",
    "Revisit "
   ]
  }
 ],
 "metadata": {
  "kernelspec": {
   "display_name": "Python 3 (ipykernel)",
   "language": "python",
   "name": "python3"
  },
  "language_info": {
   "codemirror_mode": {
    "name": "ipython",
    "version": 3
   },
   "file_extension": ".py",
   "mimetype": "text/x-python",
   "name": "python",
   "nbconvert_exporter": "python",
   "pygments_lexer": "ipython3",
   "version": "3.10.9"
  }
 },
 "nbformat": 4,
 "nbformat_minor": 5
}

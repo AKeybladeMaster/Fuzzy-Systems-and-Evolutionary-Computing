{
 "cells": [
  {
   "cell_type": "code",
   "execution_count": 1,
   "id": "97a8a91c",
   "metadata": {},
   "outputs": [],
   "source": [
    "import sys\n",
    "sys.path.append(\"../fuzzy\")"
   ]
  },
  {
   "cell_type": "code",
   "execution_count": 2,
   "id": "8a1da4e6",
   "metadata": {},
   "outputs": [],
   "source": [
    "from fuzzyset import DiscreteFuzzySet"
   ]
  },
  {
   "cell_type": "code",
   "execution_count": 3,
   "id": "802121ca",
   "metadata": {},
   "outputs": [],
   "source": [
    "oranges = DiscreteFuzzySet([\"apple\", \"lemon\", \"oxanthera\",\"orange\"], [0.0, 0.2, 0.5, 1.0])"
   ]
  },
  {
   "cell_type": "code",
   "execution_count": 4,
   "id": "1cc41052",
   "metadata": {},
   "outputs": [
    {
     "data": {
      "text/plain": [
       "array(['lemon', 'oxanthera', 'orange'], dtype='<U9')"
      ]
     },
     "execution_count": 4,
     "metadata": {},
     "output_type": "execute_result"
    }
   ],
   "source": [
    "oranges[0.2]"
   ]
  },
  {
   "cell_type": "code",
   "execution_count": 5,
   "id": "ecf8e44c",
   "metadata": {},
   "outputs": [
    {
     "ename": "ValueError",
     "evalue": "Alpha should be in [0,1], is -0.1",
     "output_type": "error",
     "traceback": [
      "\u001b[0;31m---------------------------------------------------------------------------\u001b[0m",
      "\u001b[0;31mValueError\u001b[0m                                Traceback (most recent call last)",
      "Cell \u001b[0;32mIn[5], line 1\u001b[0m\n\u001b[0;32m----> 1\u001b[0m \u001b[43moranges\u001b[49m\u001b[43m[\u001b[49m\u001b[38;5;241;43m-\u001b[39;49m\u001b[38;5;241;43m0.1\u001b[39;49m\u001b[43m]\u001b[49m\n",
      "File \u001b[0;32m/mnt/c/users/onyri/Documents/GitHub/Fuzzy-Systems-and-Evolutionary-Computing/source/examples/../fuzzy/fuzzyset.py:44\u001b[0m, in \u001b[0;36mDiscreteFuzzySet.__getitem__\u001b[0;34m(self, alpha)\u001b[0m\n\u001b[1;32m     41\u001b[0m     \u001b[38;5;28;01mraise\u001b[39;00m \u001b[38;5;167;01mTypeError\u001b[39;00m(\u001b[38;5;124m\"\u001b[39m\u001b[38;5;124mAlpha should be a float in [0,1], is \u001b[39m\u001b[38;5;132;01m%s\u001b[39;00m\u001b[38;5;124m\"\u001b[39m \u001b[38;5;241m%\u001b[39m \u001b[38;5;28mtype\u001b[39m(alpha))\n\u001b[1;32m     43\u001b[0m \u001b[38;5;28;01mif\u001b[39;00m alpha \u001b[38;5;241m<\u001b[39m \u001b[38;5;241m0\u001b[39m \u001b[38;5;129;01mor\u001b[39;00m alpha \u001b[38;5;241m>\u001b[39m \u001b[38;5;241m1\u001b[39m:\n\u001b[0;32m---> 44\u001b[0m     \u001b[38;5;28;01mraise\u001b[39;00m \u001b[38;5;167;01mValueError\u001b[39;00m(\u001b[38;5;124m\"\u001b[39m\u001b[38;5;124mAlpha should be in [0,1], is \u001b[39m\u001b[38;5;132;01m%s\u001b[39;00m\u001b[38;5;124m\"\u001b[39m \u001b[38;5;241m%\u001b[39m alpha)\n\u001b[1;32m     46\u001b[0m \u001b[38;5;28;01mreturn\u001b[39;00m \u001b[38;5;28mself\u001b[39m\u001b[38;5;241m.\u001b[39mitems[\u001b[38;5;28mself\u001b[39m\u001b[38;5;241m.\u001b[39mmemberships \u001b[38;5;241m>\u001b[39m\u001b[38;5;241m=\u001b[39m alpha]\n",
      "\u001b[0;31mValueError\u001b[0m: Alpha should be in [0,1], is -0.1"
     ]
    }
   ],
   "source": [
    "oranges[-0.1]"
   ]
  },
  {
   "cell_type": "code",
   "execution_count": 6,
   "id": "8af8bd23",
   "metadata": {},
   "outputs": [
    {
     "data": {
      "text/plain": [
       "0.5"
      ]
     },
     "execution_count": 6,
     "metadata": {},
     "output_type": "execute_result"
    }
   ],
   "source": [
    "oranges(\"oxanthera\")"
   ]
  },
  {
   "cell_type": "code",
   "execution_count": 7,
   "id": "ff8eb642",
   "metadata": {},
   "outputs": [
    {
     "ename": "ValueError",
     "evalue": "pear not in the support of the fuzzy set",
     "output_type": "error",
     "traceback": [
      "\u001b[0;31m---------------------------------------------------------------------------\u001b[0m",
      "\u001b[0;31mValueError\u001b[0m                                Traceback (most recent call last)",
      "Cell \u001b[0;32mIn[7], line 1\u001b[0m\n\u001b[0;32m----> 1\u001b[0m \u001b[43moranges\u001b[49m\u001b[43m(\u001b[49m\u001b[38;5;124;43m\"\u001b[39;49m\u001b[38;5;124;43mpear\u001b[39;49m\u001b[38;5;124;43m\"\u001b[39;49m\u001b[43m)\u001b[49m\n",
      "File \u001b[0;32m/mnt/c/users/onyri/Documents/GitHub/Fuzzy-Systems-and-Evolutionary-Computing/source/examples/../fuzzy/fuzzyset.py:35\u001b[0m, in \u001b[0;36mDiscreteFuzzySet.__call__\u001b[0;34m(self, arg)\u001b[0m\n\u001b[1;32m     33\u001b[0m \u001b[38;5;28;01mdef\u001b[39;00m \u001b[38;5;21m__call__\u001b[39m(\u001b[38;5;28mself\u001b[39m, arg):\n\u001b[1;32m     34\u001b[0m     \u001b[38;5;28;01mif\u001b[39;00m arg \u001b[38;5;129;01mnot\u001b[39;00m \u001b[38;5;129;01min\u001b[39;00m \u001b[38;5;28mself\u001b[39m\u001b[38;5;241m.\u001b[39mset\u001b[38;5;241m.\u001b[39mkeys():\n\u001b[0;32m---> 35\u001b[0m         \u001b[38;5;28;01mraise\u001b[39;00m \u001b[38;5;167;01mValueError\u001b[39;00m(\u001b[38;5;124m\"\u001b[39m\u001b[38;5;132;01m%s\u001b[39;00m\u001b[38;5;124m not in the support of the fuzzy set\u001b[39m\u001b[38;5;124m\"\u001b[39m \u001b[38;5;241m%\u001b[39m arg)\n\u001b[1;32m     36\u001b[0m     \u001b[38;5;28;01melse\u001b[39;00m:\n\u001b[1;32m     37\u001b[0m         \u001b[38;5;28;01mreturn\u001b[39;00m \u001b[38;5;28mself\u001b[39m\u001b[38;5;241m.\u001b[39mmemberships[\u001b[38;5;28mself\u001b[39m\u001b[38;5;241m.\u001b[39mset[arg]]\n",
      "\u001b[0;31mValueError\u001b[0m: pear not in the support of the fuzzy set"
     ]
    }
   ],
   "source": [
    "oranges(\"pear\")"
   ]
  },
  {
   "cell_type": "code",
   "execution_count": 8,
   "id": "d47a377a",
   "metadata": {},
   "outputs": [
    {
     "data": {
      "text/plain": [
       "True"
      ]
     },
     "execution_count": 8,
     "metadata": {},
     "output_type": "execute_result"
    }
   ],
   "source": [
    "oranges2 = DiscreteFuzzySet([\"apple\", \"lemon\", \"oxanthera\",\"orange\"], [0.0, 0.2, 0.5, 1.0])\n",
    "\n",
    "oranges == oranges2"
   ]
  },
  {
   "cell_type": "code",
   "execution_count": 9,
   "id": "82181556",
   "metadata": {},
   "outputs": [
    {
     "data": {
      "text/plain": [
       "False"
      ]
     },
     "execution_count": 9,
     "metadata": {},
     "output_type": "execute_result"
    }
   ],
   "source": [
    "lemons = DiscreteFuzzySet([\"apple\", \"lemon\", \"oxanthera\", \"orange\"], [0.0, 1.0, 0.2, 0.3])\n",
    "\n",
    "lemons == oranges"
   ]
  },
  {
   "cell_type": "code",
   "execution_count": 11,
   "id": "cec2670c",
   "metadata": {},
   "outputs": [
    {
     "data": {
      "text/plain": [
       "False"
      ]
     },
     "execution_count": 11,
     "metadata": {},
     "output_type": "execute_result"
    }
   ],
   "source": [
    "oranges3 = DiscreteFuzzySet([\"apple\", \"lemon\", \"oxanthera\",\"orange\"], [0.0, 0.2, 0.3, 1.0])\n",
    "\n",
    "oranges == oranges3"
   ]
  },
  {
   "cell_type": "code",
   "execution_count": null,
   "id": "6b144a5d",
   "metadata": {},
   "outputs": [],
   "source": []
  }
 ],
 "metadata": {
  "kernelspec": {
   "display_name": "Python 3 (ipykernel)",
   "language": "python",
   "name": "python3"
  },
  "language_info": {
   "codemirror_mode": {
    "name": "ipython",
    "version": 3
   },
   "file_extension": ".py",
   "mimetype": "text/x-python",
   "name": "python",
   "nbconvert_exporter": "python",
   "pygments_lexer": "ipython3",
   "version": "3.10.9"
  }
 },
 "nbformat": 4,
 "nbformat_minor": 5
}
